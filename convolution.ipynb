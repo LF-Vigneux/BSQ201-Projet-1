{
 "cells": [
  {
   "cell_type": "code",
   "execution_count": 96,
   "metadata": {},
   "outputs": [],
   "source": [
    "import pennylane as qml\n",
    "from pennylane import numpy as np"
   ]
  },
  {
   "cell_type": "code",
   "execution_count": 97,
   "metadata": {},
   "outputs": [],
   "source": [
    "num_qubits = 8\n",
    "\n",
    "\n",
    "dev = qml.device(\"default.qubit\", wires=num_qubits)\n",
    "\n"
   ]
  },
  {
   "cell_type": "code",
   "execution_count": 103,
   "metadata": {},
   "outputs": [],
   "source": [
    "\n",
    "@qml.qnode(dev)\n",
    "def convolution_circuit(params, num_qubits):\n",
    "\n",
    "    y = (int(num_qubits/2 - 1))\n",
    "    x = (num_qubits - y)\n",
    "    \n",
    "    if(num_qubits == 2):\n",
    "        [qml.RY(params[n], wires= n) for n in range(num_qubits)]\n",
    "        qml.CNOT(wires= [0,1])\n",
    "        return convolution_circuit\n",
    "\n",
    "    for j in range (y):\n",
    "        qml.RY(params[j], wires=j)\n",
    "        qml.RY(params[j+y], wires=j+x)\n",
    "        qml.CNOT(wires=[j, j + x])\n",
    "        \n",
    "    \n",
    "    for k in range (y, num_qubits):\n",
    "        qml.RY(params[k+y], wires= k - y)\n",
    "        qml.RY(params[k+num_qubits], wires=k)\n",
    "        qml.CNOT(wires= [k, k-y])\n",
    "    \n",
    "\n",
    "    return convolution_circuit #[qml.expval(qml.PauliZ(i)) for i in range(num_qubits)]\n"
   ]
  },
  {
   "cell_type": "code",
   "execution_count": null,
   "metadata": {},
   "outputs": [],
   "source": [
    "params = np.random.random(num_qubits*2)\n",
    "params"
   ]
  },
  {
   "cell_type": "code",
   "execution_count": null,
   "metadata": {},
   "outputs": [],
   "source": [
    "print(qml.draw(convolution_circuit)(params, num_qubits))"
   ]
  }
 ],
 "metadata": {
  "kernelspec": {
   "display_name": "QGSS",
   "language": "python",
   "name": "python3"
  },
  "language_info": {
   "codemirror_mode": {
    "name": "ipython",
    "version": 3
   },
   "file_extension": ".py",
   "mimetype": "text/x-python",
   "name": "python",
   "nbconvert_exporter": "python",
   "pygments_lexer": "ipython3",
   "version": "3.12.4"
  }
 },
 "nbformat": 4,
 "nbformat_minor": 2
}
