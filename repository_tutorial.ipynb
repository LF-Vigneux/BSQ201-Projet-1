{
 "cells": [
  {
   "cell_type": "markdown",
   "metadata": {},
   "source": [
    "# Guide to use the classifiers of the Quantum_Classifiers_BSQ_201 repository"
   ]
  },
  {
   "cell_type": "markdown",
   "metadata": {},
   "source": [
    "### Run the following cell for basic imports"
   ]
  },
  {
   "cell_type": "code",
   "execution_count": 1,
   "metadata": {},
   "outputs": [],
   "source": [
    "import numpy as np\n",
    "import pennylane as qml"
   ]
  },
  {
   "cell_type": "markdown",
   "metadata": {},
   "source": [
    "## The utils folder\n",
    "\n",
    "The utils of the repository folder can be very useful to run the quantum classifiers. Its functions will be described here."
   ]
  },
  {
   "cell_type": "markdown",
   "metadata": {},
   "source": [
    "### Quantum embeddings"
   ]
  },
  {
   "cell_type": "markdown",
   "metadata": {},
   "source": [
    "These are the 3 embeddings coded in pennylane given in this repository. Here is how to import them."
   ]
  },
  {
   "cell_type": "code",
   "execution_count": 2,
   "metadata": {},
   "outputs": [],
   "source": [
    "from utils.quantum_embeddings import angle_embedding,iqp_embedding,amplitude_embedding"
   ]
  },
  {
   "cell_type": "markdown",
   "metadata": {},
   "source": [
    "The iqp embedding is only specified for a number of qubits equal to the number of features. It takes the feature vector as an input.\n",
    "\n",
    "The amplitude embedding wil automatically create a circuit with the superior or equal power of two of the number of features. It takes the feature vector as an input.\n",
    "\n",
    "The angle embedding takes the number of qubits and rotation gates as a parameter. To use it in the next algorithms, a wrapper like below must be created so that the embedding function only takes the feature vector as a parameter. The choices of the rotation gates are \"X\", \"Y\" and \"Z\". "
   ]
  },
  {
   "cell_type": "code",
   "execution_count": 3,
   "metadata": {},
   "outputs": [],
   "source": [
    "num_qubits=4\n",
    "rotation=\"X\"\n",
    "def angle_embedding(a):\n",
    "        return utils.quantum_embeddings.angle_embedding(\n",
    "            a, num_qubits=num_qubits, rotation=rotation\n",
    "        )"
   ]
  },
  {
   "cell_type": "markdown",
   "metadata": {},
   "source": [
    "If an embedding is called by itself, a pennylane circuit created. These signature of embeddings will be the ones used in the classifier classes."
   ]
  },
  {
   "cell_type": "markdown",
   "metadata": {},
   "source": [
    "### Ansatz\n",
    "\n",
    "The utils folder also provides a working ansatz for the VQC algorithm with the *HTRU_2* dataset. To call it, just run this line of code:"
   ]
  },
  {
   "cell_type": "code",
   "execution_count": 4,
   "metadata": {},
   "outputs": [],
   "source": [
    "from utils.quantum_ansatz import ansatz_circuit"
   ]
  },
  {
   "cell_type": "markdown",
   "metadata": {},
   "source": [
    "### Error functions\n",
    "\n",
    "Multiple error functions are also provided by the utils folder. They can be used as the function to optimize (cost_function) in the VQC and QCNN algorithms. To know more about those function, read the article in the repository. Here is the complete list."
   ]
  },
  {
   "cell_type": "code",
   "execution_count": 5,
   "metadata": {},
   "outputs": [],
   "source": [
    "from utils.error_functions import (\n",
    "    mean_square_error, \n",
    "    normalized_mean_square_error,\n",
    "    normalized_root_mean_square_error,\n",
    ")"
   ]
  },
  {
   "cell_type": "markdown",
   "metadata": {},
   "source": [
    "There is also multiple functions to compare the different accuracies of the classifier. They can not be used in the VQC and QCNN algorithm since they do not satisfy the conditions for a error function. These conditions will be described later."
   ]
  },
  {
   "cell_type": "code",
   "execution_count": 6,
   "metadata": {},
   "outputs": [],
   "source": [
    "from utils.error_functions import (\n",
    "    accuracy,\n",
    "    recall,\n",
    "    specifity,\n",
    "    precision,\n",
    "    negative_prediction_value,\n",
    "    balanced_accuracy,\n",
    "    geometric_mean,\n",
    "    informedness,\n",
    ")"
   ]
  },
  {
   "cell_type": "markdown",
   "metadata": {},
   "source": [
    "### Other functions\n",
    "\n",
    "There is also three other useful functions that can be found in the utils folder. \n",
    "\n",
    "The *get_feature_vectors_and_labels* function allows to read datasets from a file. The path, file name and extensions are all given. Also, the number of rows to skip to access the data is set by default at zero.\n",
    "\n",
    "*get_good_distribution_of_labels* gives an even distribution of the feature vectors of the dataset of the label 1 and -1. The feature vectors and thei repective lables need to be given to the function.\n",
    "\n",
    "Finaly, *normalize_feature_vectors* normalizes each feature of the feature vectors so that its minimum value is -1 and its maximum is 1. It is useful to do so to make sure that each parameter starts with the same importance and to make sure that the rotation gate actually mean something with each vector (since they are 2pi periodical). Ot only takes the feature vectors for a parameter.\n",
    "\n",
    "The are import from the line below. Their usage will be shown directly in the next section of the tutorial."
   ]
  },
  {
   "cell_type": "code",
   "execution_count": 7,
   "metadata": {},
   "outputs": [],
   "source": [
    "from utils.utils import (\n",
    "    get_feature_vectors_and_labels, \n",
    "    get_good_distribution_of_labels,\n",
    "    normalize_feature_vectors,\n",
    ")"
   ]
  },
  {
   "cell_type": "markdown",
   "metadata": {},
   "source": [
    "## First step: Load the data\n",
    "\n",
    "The fist step to run the algorithms is to load a dataset to classify. To do so, we will use the three function described in the previous section. For this tutorial, we will use the *HTRU_2* dataset based on pulsar detection. It is available under the dataset folder in the repository. For the VQC and QCNN algorithm, the labels must be -1 or 1. The function *get_good_distribution_of_labels* only works if those labels ar respected. So, in the code below, there will be an example of changing the 0 labels in the datasets into -1.\n",
    "\n",
    "Here is how to load a dataset, get a significant sample (not only zeros or one to make sure that the classifiers work correctly) and normalize the features with the utils function described earlier. The data can be loaded in a different way as long as there is a feature vectors matrix and a label array or 1 and -1. These types of inputs will be the ones that will work across all of the algorithms. Only the quantum kernel classifier does not need labels of -1 and 1. They just need to be 2 diffents integers."
   ]
  },
  {
   "cell_type": "code",
   "execution_count": 8,
   "metadata": {},
   "outputs": [],
   "source": [
    "from utils.utils import (\n",
    "    get_feature_vectors_and_labels, \n",
    "    get_good_distribution_of_labels,\n",
    "    normalize_feature_vectors,\n",
    ")\n",
    "\n",
    "#Load the dataset\n",
    "feature_vectors, labels = get_feature_vectors_and_labels(\n",
    "        \"HTRU_2\", extension=\"csv\", path=\"datasets/\", rows_to_skip=0\n",
    "    )\n",
    "\n",
    "#Change the 0 labels into -1\n",
    "labels=(2*labels)-1\n",
    "# Get a good sample of the dataset since it is to big\n",
    "feature_vectors, labels = get_good_distribution_of_labels(\n",
    "    feature_vectors, labels, 50\n",
    ")\n",
    "# Normalize the feature vectors\n",
    "feature_vectors = normalize_feature_vectors(feature_vectors)"
   ]
  },
  {
   "cell_type": "markdown",
   "metadata": {},
   "source": [
    "## Note\n",
    "\n",
    "The use of the three different classifiers are very similar. The quantum kernel algorithm will be described in detail and will be referenced for the other methods to descibe their functioning."
   ]
  },
  {
   "cell_type": "markdown",
   "metadata": {},
   "source": [
    "## The quantum kernel classifier"
   ]
  },
  {
   "cell_type": "markdown",
   "metadata": {},
   "source": [
    "To use the quantum kernel classifier, the *Quantum_Kernel_Classification* class form the *kernel_method.py* file needs to be called.\n",
    "\n",
    "First, run this line to import the class."
   ]
  },
  {
   "cell_type": "code",
   "execution_count": 9,
   "metadata": {},
   "outputs": [],
   "source": [
    "from kernel_method import Quantum_Kernel_Classification"
   ]
  },
  {
   "cell_type": "markdown",
   "metadata": {},
   "source": [
    "Then, the object needs an embedding funtion and the number of qubits of that embedding. The embedding needs to be a function with th same number of qubits given to the class. It must create the Pennylane circuit that encodes the feature vector. It can not be a QNODE.\n",
    "Lets create the objet using the amplitude embedding function from the utils file."
   ]
  },
  {
   "cell_type": "code",
   "execution_count": 10,
   "metadata": {},
   "outputs": [],
   "source": [
    "import utils.quantum_embeddings\n",
    "num_qubits=3\n",
    "\n",
    "kernel_qml = Quantum_Kernel_Classification(\n",
    "        utils.quantum_embeddings.amplitude_embedding, num_qubits\n",
    "    )"
   ]
  },
  {
   "cell_type": "markdown",
   "metadata": {},
   "source": [
    "An object ready to run the quantum kernel classification is created.\n",
    "\n",
    "To run the algorithm  with a datset, just call the run function. It needs the feature vectors and their respective labels that are two integers.\n",
    "\n",
    "The optional argument, training ratio, is fixing the ratio between the number of training vectors to be used from all of them given.\n",
    "\n",
    "Lets call the run function."
   ]
  },
  {
   "cell_type": "code",
   "execution_count": 11,
   "metadata": {},
   "outputs": [],
   "source": [
    "training_ratio=0.8\n",
    "\n",
    "score, predictions = kernel_qml.run(\n",
    "        feature_vectors, labels, training_ratio=training_ratio\n",
    "    )"
   ]
  },
  {
   "cell_type": "markdown",
   "metadata": {},
   "source": [
    "The result of this algorithm is in two parts.\n",
    "\n",
    "The score return gives the number of labels that the classifier correcty predicted.\n",
    "\n",
    "The prediction return is the array of all the predicted labels.\n",
    "\n",
    "Those reults can then be printed to evaluate the precision of the algorithm."
   ]
  },
  {
   "cell_type": "code",
   "execution_count": 12,
   "metadata": {},
   "outputs": [
    {
     "name": "stdout",
     "output_type": "stream",
     "text": [
      "The score of the kernel:  0.95\n",
      "The predictions of the labels:  [-1.  1.  1. -1.  1. -1. -1.  1.  1. -1.  1.  1.  1. -1. -1. -1.  1. -1.\n",
      " -1.  1.]\n",
      "The true value of the labels:  [-1.  1.  1. -1.  1. -1. -1.  1.  1. -1.  1.  1.  1. -1. -1.  1.  1. -1.\n",
      " -1.  1.]\n"
     ]
    }
   ],
   "source": [
    "training_period = int(len(labels) * training_ratio)\n",
    "\n",
    "print(\"The score of the kernel: \", score)\n",
    "print(\"The predictions of the labels: \", predictions)\n",
    "print(\"The true value of the labels: \", labels[training_period:])"
   ]
  },
  {
   "cell_type": "markdown",
   "metadata": {},
   "source": [
    "## The quantum variationnal algorithm"
   ]
  },
  {
   "cell_type": "markdown",
   "metadata": {},
   "source": [
    "To use the quantum kernel classifier, the *VQC_Solver* class form the *vqc_method.py* file needs to be called.\n",
    "\n",
    "First, run this line to import the class."
   ]
  },
  {
   "cell_type": "code",
   "execution_count": 13,
   "metadata": {},
   "outputs": [],
   "source": [
    "from vqc_method import VQC_Solver"
   ]
  },
  {
   "cell_type": "markdown",
   "metadata": {},
   "source": [
    "Then, the object needs an embedding funtion, the ansatz circuit, the number of parameters in the ansatz and the number of qubits of the two circuits.\n",
    "\n",
    "Like the embedding function described in the kernel classifier, the ansatz callable is a function creating a pennylane circuit that is to be optimized. It can not be a QNODE. It must also have the same number or less of qubits than the one given to the class. It also has the same number or less of parameters than number given to the class.\n",
    "Lets create the objet using the amplitude embedding function."
   ]
  },
  {
   "cell_type": "code",
   "execution_count": 14,
   "metadata": {},
   "outputs": [],
   "source": [
    "import utils.quantum_embeddings\n",
    "import utils.quantum_ansatz\n",
    "\n",
    "num_qubits=8\n",
    "num_params = 12\n",
    "\n",
    "vqc = VQC_Solver(\n",
    "    utils.quantum_embeddings.amplitude_embedding,\n",
    "    utils.quantum_ansatz.ansatz_circuit,\n",
    "    num_params,\n",
    "    num_qubits,\n",
    ")"
   ]
  },
  {
   "cell_type": "markdown",
   "metadata": {},
   "source": [
    "An object ready to run the VQC (variationnal quantum classifier) is created.\n",
    "\n",
    "To run the algorithm  with a datset, the same procedure needs to be folled as the quantum kernel method.\n",
    "However, the run function also needs the optimizer, the error function to be minimized and the classifier function. Also, the labels must be -1 or 1.\n",
    "\n",
    "The optimizer given needs to only have two parameters: the cost_function and its parameters to optimize. The result of the optimizer also needs a *x* atribute to give the optimized parameters. In this tutorial, we will crate a wrapper optimization function that calls teh COBYLA method form scipy's minimizer.\n",
    "\n",
    "The error function has also two paramters (the predicted labels and their real value). It is the error to be minimized by the optimizer. Multiple error function ar given in the utils file as specified earlier. The error function must directly use the expval values of the feature vectors in the circuit for the calculation. It can not use a copy of those results. By default, the mean square error function of the utils folder is used.\n",
    "\n",
    "So, lets use the run function."
   ]
  },
  {
   "cell_type": "code",
   "execution_count": 15,
   "metadata": {},
   "outputs": [],
   "source": [
    "from scipy.optimize import minimize\n",
    "from utils.error_functions import mean_square_error\n",
    "from pennylane.optimize import NesterovMomentumOptimizer, AdamOptimizer,GradientDescentOptimizer\n",
    "training_ratio=0.8\n",
    "\n",
    "def minimisation(cost_function, params):\n",
    "        result=minimize(\n",
    "            cost_function,\n",
    "            params,\n",
    "            method=\"COBYLA\",\n",
    "            options={\"tol\": 1e-08},\n",
    "        )\n",
    "        return result.x\n",
    "\"\"\"\n",
    "def minimisation(cost_function, original_params):\n",
    "    result = NesterovMomentumOptimizer(stepsize=1)\n",
    "    new_params = original_params\n",
    "    for i in range(100):\n",
    "        new_params, fct = result.step_and_cost(cost_function, new_params)\n",
    "        print(\"itération \", i, \" terminée. Coût: \", fct)\n",
    "    return new_params\n",
    "\"\"\"\n",
    "score, predictions = vqc.run(\n",
    "    feature_vectors, labels, minimisation,error_function=mean_square_error, training_ratio=training_ratio\n",
    ")"
   ]
  },
  {
   "cell_type": "markdown",
   "metadata": {},
   "source": [
    "The result of this algorithm is the same as the quantum kernel algorithm. Lest print the results."
   ]
  },
  {
   "cell_type": "code",
   "execution_count": 16,
   "metadata": {},
   "outputs": [
    {
     "name": "stdout",
     "output_type": "stream",
     "text": [
      "The score of the VQC:  0.95\n",
      "The predictions of the labels:  [-1.  1.  1. -1.  1. -1. -1.  1.  1. -1.  1.  1.  1. -1. -1. -1.  1. -1.\n",
      " -1.  1.]\n",
      "The true value of the labels:  [-1.  1.  1. -1.  1. -1. -1.  1.  1. -1.  1.  1.  1. -1. -1.  1.  1. -1.\n",
      " -1.  1.]\n"
     ]
    }
   ],
   "source": [
    "training_period = int(len(labels) * training_ratio)\n",
    "\n",
    "print(\"The score of the VQC: \", score)\n",
    "print(\"The predictions of the labels: \", predictions)\n",
    "print(\"The true value of the labels: \", labels[training_period:])"
   ]
  },
  {
   "cell_type": "markdown",
   "metadata": {},
   "source": [
    "## The quantum convolutional neural network algorithm"
   ]
  },
  {
   "cell_type": "markdown",
   "metadata": {},
   "source": [
    "To use the quantum kernel classifier, the *QCNN_Solver* class form the *qcnn_method.py* file needs to be called.\n",
    "\n",
    "First, run this line to import the class."
   ]
  },
  {
   "cell_type": "code",
   "execution_count": 17,
   "metadata": {},
   "outputs": [],
   "source": [
    "from qcnn_method import QCNN_Solver"
   ]
  },
  {
   "cell_type": "markdown",
   "metadata": {},
   "source": [
    "Then, the object needs an embedding funtion and the number of qubits of this circuit.\n",
    "Lets create the objet using the amplitude embedding function."
   ]
  },
  {
   "cell_type": "code",
   "execution_count": 18,
   "metadata": {},
   "outputs": [],
   "source": [
    "import utils.quantum_embeddings\n",
    "\n",
    "num_qubits=8\n",
    "def angle(feature_vectors):\n",
    "    return utils.quantum_embeddings.angle_embedding(feature_vectors,8,rotation=\"Y\")\n",
    "\n",
    "qcnn = QCNN_Solver(utils.quantum_embeddings.iqp_embedding, num_qubits)"
   ]
  },
  {
   "cell_type": "markdown",
   "metadata": {},
   "source": [
    "An object ready to run the QCNN (quantum convolutionnal neural network) is created.\n",
    "\n",
    "To run the algorithm  with a dataset, the same procedure as the VQC method needs to be followed (the same condition for the optimizer, error function,labels  and classifier function).\n",
    "\n",
    "However there is two run function.\n",
    "Lets first use the normal run function. It uses all of the training parameters at each iterations of the optimization.\n",
    "\n",
    "\n",
    "So, lets use the run function."
   ]
  },
  {
   "cell_type": "markdown",
   "metadata": {},
   "source": [
    "### Run function"
   ]
  },
  {
   "cell_type": "code",
   "execution_count": 24,
   "metadata": {},
   "outputs": [
    {
     "name": "stderr",
     "output_type": "stream",
     "text": [
      "/Users/lf/opt/anaconda3/envs/pennylane/lib/python3.9/site-packages/pennylane/_grad.py:158: UserWarning: Attempted to differentiate a function with no trainable parameters. If this is unintended, please add trainable parameters via the 'requires_grad' attribute or 'argnum' keyword.\n",
      "  warnings.warn(\n"
     ]
    },
    {
     "name": "stdout",
     "output_type": "stream",
     "text": [
      "[ 1.36713584 -0.14461592  2.10749235 -0.41372685 -0.83167955 -0.06149261\n",
      " -0.89386431  0.73885227  0.03136548  0.49676978  0.76566232 -0.1110713\n",
      " -0.6864796  -0.48052249  0.22739773  0.00925681  0.7886214   0.78073808\n",
      "  0.06995433  0.37280735  0.38989062 -0.15031881  0.71116494  0.20828066\n",
      " -0.4690053  -0.03137497]\n",
      "[ 1.36713584 -0.14461592  2.10749235 -0.41372685 -0.83167955 -0.06149261\n",
      " -0.89386431  0.73885227  0.03136548  0.49676978  0.76566232 -0.1110713\n",
      " -0.6864796  -0.48052249  0.22739773  0.00925681  0.7886214   0.78073808\n",
      "  0.06995433  0.37280735  0.38989062 -0.15031881  0.71116494  0.20828066\n",
      " -0.4690053  -0.03137497]\n",
      "[ 1.36713584 -0.14461592  2.10749235 -0.41372685 -0.83167955 -0.06149261\n",
      " -0.89386431  0.73885227  0.03136548  0.49676978  0.76566232 -0.1110713\n",
      " -0.6864796  -0.48052249  0.22739773  0.00925681  0.7886214   0.78073808\n",
      "  0.06995433  0.37280735  0.38989062 -0.15031881  0.71116494  0.20828066\n",
      " -0.4690053  -0.03137497]\n",
      "[ 1.36713584 -0.14461592  2.10749235 -0.41372685 -0.83167955 -0.06149261\n",
      " -0.89386431  0.73885227  0.03136548  0.49676978  0.76566232 -0.1110713\n",
      " -0.6864796  -0.48052249  0.22739773  0.00925681  0.7886214   0.78073808\n",
      "  0.06995433  0.37280735  0.38989062 -0.15031881  0.71116494  0.20828066\n",
      " -0.4690053  -0.03137497]\n",
      "[ 1.36713584 -0.14461592  2.10749235 -0.41372685 -0.83167955 -0.06149261\n",
      " -0.89386431  0.73885227  0.03136548  0.49676978  0.76566232 -0.1110713\n",
      " -0.6864796  -0.48052249  0.22739773  0.00925681  0.7886214   0.78073808\n",
      "  0.06995433  0.37280735  0.38989062 -0.15031881  0.71116494  0.20828066\n",
      " -0.4690053  -0.03137497]\n",
      "[ 1.36713584 -0.14461592  2.10749235 -0.41372685 -0.83167955 -0.06149261\n",
      " -0.89386431  0.73885227  0.03136548  0.49676978  0.76566232 -0.1110713\n",
      " -0.6864796  -0.48052249  0.22739773  0.00925681  0.7886214   0.78073808\n",
      "  0.06995433  0.37280735  0.38989062 -0.15031881  0.71116494  0.20828066\n",
      " -0.4690053  -0.03137497]\n",
      "[ 1.36713584 -0.14461592  2.10749235 -0.41372685 -0.83167955 -0.06149261\n",
      " -0.89386431  0.73885227  0.03136548  0.49676978  0.76566232 -0.1110713\n",
      " -0.6864796  -0.48052249  0.22739773  0.00925681  0.7886214   0.78073808\n",
      "  0.06995433  0.37280735  0.38989062 -0.15031881  0.71116494  0.20828066\n",
      " -0.4690053  -0.03137497]\n",
      "[ 1.36713584 -0.14461592  2.10749235 -0.41372685 -0.83167955 -0.06149261\n",
      " -0.89386431  0.73885227  0.03136548  0.49676978  0.76566232 -0.1110713\n",
      " -0.6864796  -0.48052249  0.22739773  0.00925681  0.7886214   0.78073808\n",
      "  0.06995433  0.37280735  0.38989062 -0.15031881  0.71116494  0.20828066\n",
      " -0.4690053  -0.03137497]\n",
      "[ 1.36713584 -0.14461592  2.10749235 -0.41372685 -0.83167955 -0.06149261\n",
      " -0.89386431  0.73885227  0.03136548  0.49676978  0.76566232 -0.1110713\n",
      " -0.6864796  -0.48052249  0.22739773  0.00925681  0.7886214   0.78073808\n",
      "  0.06995433  0.37280735  0.38989062 -0.15031881  0.71116494  0.20828066\n",
      " -0.4690053  -0.03137497]\n",
      "[ 1.36713584 -0.14461592  2.10749235 -0.41372685 -0.83167955 -0.06149261\n",
      " -0.89386431  0.73885227  0.03136548  0.49676978  0.76566232 -0.1110713\n",
      " -0.6864796  -0.48052249  0.22739773  0.00925681  0.7886214   0.78073808\n",
      "  0.06995433  0.37280735  0.38989062 -0.15031881  0.71116494  0.20828066\n",
      " -0.4690053  -0.03137497]\n",
      "[ 1.36713584 -0.14461592  2.10749235 -0.41372685 -0.83167955 -0.06149261\n",
      " -0.89386431  0.73885227  0.03136548  0.49676978  0.76566232 -0.1110713\n",
      " -0.6864796  -0.48052249  0.22739773  0.00925681  0.7886214   0.78073808\n",
      "  0.06995433  0.37280735  0.38989062 -0.15031881  0.71116494  0.20828066\n",
      " -0.4690053  -0.03137497]\n",
      "[ 1.36713584 -0.14461592  2.10749235 -0.41372685 -0.83167955 -0.06149261\n",
      " -0.89386431  0.73885227  0.03136548  0.49676978  0.76566232 -0.1110713\n",
      " -0.6864796  -0.48052249  0.22739773  0.00925681  0.7886214   0.78073808\n",
      "  0.06995433  0.37280735  0.38989062 -0.15031881  0.71116494  0.20828066\n",
      " -0.4690053  -0.03137497]\n",
      "[ 1.36713584 -0.14461592  2.10749235 -0.41372685 -0.83167955 -0.06149261\n",
      " -0.89386431  0.73885227  0.03136548  0.49676978  0.76566232 -0.1110713\n",
      " -0.6864796  -0.48052249  0.22739773  0.00925681  0.7886214   0.78073808\n",
      "  0.06995433  0.37280735  0.38989062 -0.15031881  0.71116494  0.20828066\n",
      " -0.4690053  -0.03137497]\n",
      "[ 1.36713584 -0.14461592  2.10749235 -0.41372685 -0.83167955 -0.06149261\n",
      " -0.89386431  0.73885227  0.03136548  0.49676978  0.76566232 -0.1110713\n",
      " -0.6864796  -0.48052249  0.22739773  0.00925681  0.7886214   0.78073808\n",
      "  0.06995433  0.37280735  0.38989062 -0.15031881  0.71116494  0.20828066\n",
      " -0.4690053  -0.03137497]\n",
      "[ 1.36713584 -0.14461592  2.10749235 -0.41372685 -0.83167955 -0.06149261\n",
      " -0.89386431  0.73885227  0.03136548  0.49676978  0.76566232 -0.1110713\n",
      " -0.6864796  -0.48052249  0.22739773  0.00925681  0.7886214   0.78073808\n",
      "  0.06995433  0.37280735  0.38989062 -0.15031881  0.71116494  0.20828066\n",
      " -0.4690053  -0.03137497]\n",
      "[ 1.36713584 -0.14461592  2.10749235 -0.41372685 -0.83167955 -0.06149261\n",
      " -0.89386431  0.73885227  0.03136548  0.49676978  0.76566232 -0.1110713\n",
      " -0.6864796  -0.48052249  0.22739773  0.00925681  0.7886214   0.78073808\n",
      "  0.06995433  0.37280735  0.38989062 -0.15031881  0.71116494  0.20828066\n",
      " -0.4690053  -0.03137497]\n",
      "[ 1.36713584 -0.14461592  2.10749235 -0.41372685 -0.83167955 -0.06149261\n",
      " -0.89386431  0.73885227  0.03136548  0.49676978  0.76566232 -0.1110713\n",
      " -0.6864796  -0.48052249  0.22739773  0.00925681  0.7886214   0.78073808\n",
      "  0.06995433  0.37280735  0.38989062 -0.15031881  0.71116494  0.20828066\n",
      " -0.4690053  -0.03137497]\n",
      "[ 1.36713584 -0.14461592  2.10749235 -0.41372685 -0.83167955 -0.06149261\n",
      " -0.89386431  0.73885227  0.03136548  0.49676978  0.76566232 -0.1110713\n",
      " -0.6864796  -0.48052249  0.22739773  0.00925681  0.7886214   0.78073808\n",
      "  0.06995433  0.37280735  0.38989062 -0.15031881  0.71116494  0.20828066\n",
      " -0.4690053  -0.03137497]\n",
      "[ 1.36713584 -0.14461592  2.10749235 -0.41372685 -0.83167955 -0.06149261\n",
      " -0.89386431  0.73885227  0.03136548  0.49676978  0.76566232 -0.1110713\n",
      " -0.6864796  -0.48052249  0.22739773  0.00925681  0.7886214   0.78073808\n",
      "  0.06995433  0.37280735  0.38989062 -0.15031881  0.71116494  0.20828066\n",
      " -0.4690053  -0.03137497]\n",
      "[ 1.36713584 -0.14461592  2.10749235 -0.41372685 -0.83167955 -0.06149261\n",
      " -0.89386431  0.73885227  0.03136548  0.49676978  0.76566232 -0.1110713\n",
      " -0.6864796  -0.48052249  0.22739773  0.00925681  0.7886214   0.78073808\n",
      "  0.06995433  0.37280735  0.38989062 -0.15031881  0.71116494  0.20828066\n",
      " -0.4690053  -0.03137497]\n"
     ]
    },
    {
     "ename": "KeyboardInterrupt",
     "evalue": "",
     "output_type": "error",
     "traceback": [
      "\u001b[0;31m---------------------------------------------------------------------------\u001b[0m",
      "\u001b[0;31mKeyboardInterrupt\u001b[0m                         Traceback (most recent call last)",
      "\u001b[1;32m/Users/lf/Desktop/Université/Session 3/BSQ201/Projet 1/Quantum_classifiers_BSQ_201/repository_tutorial.ipynb Cell 47\u001b[0m line \u001b[0;36m2\n\u001b[1;32m     <a href='vscode-notebook-cell:/Users/lf/Desktop/Universit%C3%A9/Session%203/BSQ201/Projet%201/Quantum_classifiers_BSQ_201/repository_tutorial.ipynb#X64sZmlsZQ%3D%3D?line=25'>26</a>\u001b[0m         \u001b[39mprint\u001b[39m(new_params)\n\u001b[1;32m     <a href='vscode-notebook-cell:/Users/lf/Desktop/Universit%C3%A9/Session%203/BSQ201/Projet%201/Quantum_classifiers_BSQ_201/repository_tutorial.ipynb#X64sZmlsZQ%3D%3D?line=26'>27</a>\u001b[0m     \u001b[39mreturn\u001b[39;00m new_params    \n\u001b[0;32m---> <a href='vscode-notebook-cell:/Users/lf/Desktop/Universit%C3%A9/Session%203/BSQ201/Projet%201/Quantum_classifiers_BSQ_201/repository_tutorial.ipynb#X64sZmlsZQ%3D%3D?line=28'>29</a>\u001b[0m score, predictions \u001b[39m=\u001b[39m qcnn\u001b[39m.\u001b[39;49mrun(\n\u001b[1;32m     <a href='vscode-notebook-cell:/Users/lf/Desktop/Universit%C3%A9/Session%203/BSQ201/Projet%201/Quantum_classifiers_BSQ_201/repository_tutorial.ipynb#X64sZmlsZQ%3D%3D?line=29'>30</a>\u001b[0m     feature_vectors,\n\u001b[1;32m     <a href='vscode-notebook-cell:/Users/lf/Desktop/Universit%C3%A9/Session%203/BSQ201/Projet%201/Quantum_classifiers_BSQ_201/repository_tutorial.ipynb#X64sZmlsZQ%3D%3D?line=30'>31</a>\u001b[0m     labels,\n\u001b[1;32m     <a href='vscode-notebook-cell:/Users/lf/Desktop/Universit%C3%A9/Session%203/BSQ201/Projet%201/Quantum_classifiers_BSQ_201/repository_tutorial.ipynb#X64sZmlsZQ%3D%3D?line=31'>32</a>\u001b[0m     minimisation,\n\u001b[1;32m     <a href='vscode-notebook-cell:/Users/lf/Desktop/Universit%C3%A9/Session%203/BSQ201/Projet%201/Quantum_classifiers_BSQ_201/repository_tutorial.ipynb#X64sZmlsZQ%3D%3D?line=32'>33</a>\u001b[0m     error_function\u001b[39m=\u001b[39;49mmean_square_error,\n\u001b[1;32m     <a href='vscode-notebook-cell:/Users/lf/Desktop/Universit%C3%A9/Session%203/BSQ201/Projet%201/Quantum_classifiers_BSQ_201/repository_tutorial.ipynb#X64sZmlsZQ%3D%3D?line=33'>34</a>\u001b[0m     training_ratio\u001b[39m=\u001b[39;49mtraining_ratio,\n\u001b[1;32m     <a href='vscode-notebook-cell:/Users/lf/Desktop/Universit%C3%A9/Session%203/BSQ201/Projet%201/Quantum_classifiers_BSQ_201/repository_tutorial.ipynb#X64sZmlsZQ%3D%3D?line=34'>35</a>\u001b[0m )\n",
      "File \u001b[0;32m~/Desktop/Université/Session 3/BSQ201/Projet 1/Quantum_classifiers_BSQ_201/qcnn_method.py:164\u001b[0m, in \u001b[0;36mQCNN_Solver.run\u001b[0;34m(self, feature_vectors, labels, optimizer_function, error_function, training_ratio)\u001b[0m\n\u001b[1;32m    158\u001b[0m     resulting_labels \u001b[39m=\u001b[39m [\n\u001b[1;32m    159\u001b[0m         \u001b[39mself\u001b[39m\u001b[39m.\u001b[39mcircuit_to_optimize(training_vector, params)\n\u001b[1;32m    160\u001b[0m         \u001b[39mfor\u001b[39;00m training_vector \u001b[39min\u001b[39;00m training_vectors\n\u001b[1;32m    161\u001b[0m     ]\n\u001b[1;32m    162\u001b[0m     \u001b[39mreturn\u001b[39;00m error_function(resulting_labels, training_labels)\n\u001b[0;32m--> 164\u001b[0m \u001b[39mself\u001b[39m\u001b[39m.\u001b[39mparams \u001b[39m=\u001b[39m optimizer_function(cost_function, \u001b[39mself\u001b[39;49m\u001b[39m.\u001b[39;49mparams)\n\u001b[1;32m    166\u001b[0m \u001b[39m# Getting the predictions\u001b[39;00m\n\u001b[1;32m    167\u001b[0m \u001b[39mfor\u001b[39;00m i, testing_vector \u001b[39min\u001b[39;00m \u001b[39menumerate\u001b[39m(testing_vectors):\n",
      "\u001b[1;32m/Users/lf/Desktop/Université/Session 3/BSQ201/Projet 1/Quantum_classifiers_BSQ_201/repository_tutorial.ipynb Cell 47\u001b[0m line \u001b[0;36m2\n\u001b[1;32m     <a href='vscode-notebook-cell:/Users/lf/Desktop/Universit%C3%A9/Session%203/BSQ201/Projet%201/Quantum_classifiers_BSQ_201/repository_tutorial.ipynb#X64sZmlsZQ%3D%3D?line=22'>23</a>\u001b[0m new_params\u001b[39m=\u001b[39mparams\n\u001b[1;32m     <a href='vscode-notebook-cell:/Users/lf/Desktop/Universit%C3%A9/Session%203/BSQ201/Projet%201/Quantum_classifiers_BSQ_201/repository_tutorial.ipynb#X64sZmlsZQ%3D%3D?line=23'>24</a>\u001b[0m \u001b[39mfor\u001b[39;00m _ \u001b[39min\u001b[39;00m \u001b[39mrange\u001b[39m(\u001b[39m100\u001b[39m):\n\u001b[0;32m---> <a href='vscode-notebook-cell:/Users/lf/Desktop/Universit%C3%A9/Session%203/BSQ201/Projet%201/Quantum_classifiers_BSQ_201/repository_tutorial.ipynb#X64sZmlsZQ%3D%3D?line=24'>25</a>\u001b[0m     new_params,fct\u001b[39m=\u001b[39mresult\u001b[39m.\u001b[39;49mstep_and_cost(cost_function,new_params)\n\u001b[1;32m     <a href='vscode-notebook-cell:/Users/lf/Desktop/Universit%C3%A9/Session%203/BSQ201/Projet%201/Quantum_classifiers_BSQ_201/repository_tutorial.ipynb#X64sZmlsZQ%3D%3D?line=25'>26</a>\u001b[0m     \u001b[39mprint\u001b[39m(new_params)\n\u001b[1;32m     <a href='vscode-notebook-cell:/Users/lf/Desktop/Universit%C3%A9/Session%203/BSQ201/Projet%201/Quantum_classifiers_BSQ_201/repository_tutorial.ipynb#X64sZmlsZQ%3D%3D?line=26'>27</a>\u001b[0m \u001b[39mreturn\u001b[39;00m new_params\n",
      "File \u001b[0;32m~/opt/anaconda3/envs/pennylane/lib/python3.9/site-packages/pennylane/optimize/gradient_descent.py:64\u001b[0m, in \u001b[0;36mGradientDescentOptimizer.step_and_cost\u001b[0;34m(self, objective_fn, grad_fn, *args, **kwargs)\u001b[0m\n\u001b[1;32m     44\u001b[0m \u001b[39mdef\u001b[39;00m \u001b[39mstep_and_cost\u001b[39m(\u001b[39mself\u001b[39m, objective_fn, \u001b[39m*\u001b[39margs, grad_fn\u001b[39m=\u001b[39m\u001b[39mNone\u001b[39;00m, \u001b[39m*\u001b[39m\u001b[39m*\u001b[39mkwargs):\n\u001b[1;32m     45\u001b[0m \u001b[39m    \u001b[39m\u001b[39m\"\"\"Update trainable arguments with one step of the optimizer and return the corresponding\u001b[39;00m\n\u001b[1;32m     46\u001b[0m \u001b[39m    objective function value prior to the step.\u001b[39;00m\n\u001b[1;32m     47\u001b[0m \n\u001b[0;32m   (...)\u001b[0m\n\u001b[1;32m     61\u001b[0m \u001b[39m        If single arg is provided, list [array] is replaced by array.\u001b[39;00m\n\u001b[1;32m     62\u001b[0m \u001b[39m    \"\"\"\u001b[39;00m\n\u001b[0;32m---> 64\u001b[0m     g, forward \u001b[39m=\u001b[39m \u001b[39mself\u001b[39;49m\u001b[39m.\u001b[39;49mcompute_grad(objective_fn, args, kwargs, grad_fn\u001b[39m=\u001b[39;49mgrad_fn)\n\u001b[1;32m     65\u001b[0m     new_args \u001b[39m=\u001b[39m \u001b[39mself\u001b[39m\u001b[39m.\u001b[39mapply_grad(g, args)\n\u001b[1;32m     67\u001b[0m     \u001b[39mif\u001b[39;00m forward \u001b[39mis\u001b[39;00m \u001b[39mNone\u001b[39;00m:\n",
      "File \u001b[0;32m~/opt/anaconda3/envs/pennylane/lib/python3.9/site-packages/pennylane/optimize/nesterov_momentum.py:77\u001b[0m, in \u001b[0;36mNesterovMomentumOptimizer.compute_grad\u001b[0;34m(self, objective_fn, args, kwargs, grad_fn)\u001b[0m\n\u001b[1;32m     74\u001b[0m         shifted_args[index] \u001b[39m=\u001b[39m args[index] \u001b[39m-\u001b[39m \u001b[39mself\u001b[39m\u001b[39m.\u001b[39mmomentum \u001b[39m*\u001b[39m \u001b[39mself\u001b[39m\u001b[39m.\u001b[39maccumulation[index]\n\u001b[1;32m     76\u001b[0m g \u001b[39m=\u001b[39m get_gradient(objective_fn) \u001b[39mif\u001b[39;00m grad_fn \u001b[39mis\u001b[39;00m \u001b[39mNone\u001b[39;00m \u001b[39melse\u001b[39;00m grad_fn\n\u001b[0;32m---> 77\u001b[0m grad \u001b[39m=\u001b[39m g(\u001b[39m*\u001b[39;49mshifted_args, \u001b[39m*\u001b[39;49m\u001b[39m*\u001b[39;49mkwargs)\n\u001b[1;32m     78\u001b[0m forward \u001b[39m=\u001b[39m \u001b[39mgetattr\u001b[39m(g, \u001b[39m\"\u001b[39m\u001b[39mforward\u001b[39m\u001b[39m\"\u001b[39m, \u001b[39mNone\u001b[39;00m)\n\u001b[1;32m     80\u001b[0m grad \u001b[39m=\u001b[39m (grad,) \u001b[39mif\u001b[39;00m \u001b[39mlen\u001b[39m(trainable_indices) \u001b[39m==\u001b[39m \u001b[39m1\u001b[39m \u001b[39melse\u001b[39;00m grad\n",
      "File \u001b[0;32m~/opt/anaconda3/envs/pennylane/lib/python3.9/site-packages/pennylane/_grad.py:163\u001b[0m, in \u001b[0;36mgrad.__call__\u001b[0;34m(self, *args, **kwargs)\u001b[0m\n\u001b[1;32m    157\u001b[0m \u001b[39mif\u001b[39;00m \u001b[39mnot\u001b[39;00m \u001b[39misinstance\u001b[39m(argnum, \u001b[39mint\u001b[39m) \u001b[39mand\u001b[39;00m \u001b[39mnot\u001b[39;00m argnum:\n\u001b[1;32m    158\u001b[0m     warnings\u001b[39m.\u001b[39mwarn(\n\u001b[1;32m    159\u001b[0m         \u001b[39m\"\u001b[39m\u001b[39mAttempted to differentiate a function with no trainable parameters. \u001b[39m\u001b[39m\"\u001b[39m\n\u001b[1;32m    160\u001b[0m         \u001b[39m\"\u001b[39m\u001b[39mIf this is unintended, please add trainable parameters via the \u001b[39m\u001b[39m\"\u001b[39m\n\u001b[1;32m    161\u001b[0m         \u001b[39m\"\u001b[39m\u001b[39m'\u001b[39m\u001b[39mrequires_grad\u001b[39m\u001b[39m'\u001b[39m\u001b[39m attribute or \u001b[39m\u001b[39m'\u001b[39m\u001b[39margnum\u001b[39m\u001b[39m'\u001b[39m\u001b[39m keyword.\u001b[39m\u001b[39m\"\u001b[39m\n\u001b[1;32m    162\u001b[0m     )\n\u001b[0;32m--> 163\u001b[0m     \u001b[39mself\u001b[39m\u001b[39m.\u001b[39m_forward \u001b[39m=\u001b[39m \u001b[39mself\u001b[39;49m\u001b[39m.\u001b[39;49m_fun(\u001b[39m*\u001b[39;49margs, \u001b[39m*\u001b[39;49m\u001b[39m*\u001b[39;49mkwargs)\n\u001b[1;32m    164\u001b[0m     \u001b[39mreturn\u001b[39;00m ()\n\u001b[1;32m    166\u001b[0m grad_value, ans \u001b[39m=\u001b[39m grad_fn(\u001b[39m*\u001b[39margs, \u001b[39m*\u001b[39m\u001b[39m*\u001b[39mkwargs)  \u001b[39m# pylint: disable=not-callable\u001b[39;00m\n",
      "File \u001b[0;32m~/Desktop/Université/Session 3/BSQ201/Projet 1/Quantum_classifiers_BSQ_201/qcnn_method.py:158\u001b[0m, in \u001b[0;36mQCNN_Solver.run.<locals>.cost_function\u001b[0;34m(params)\u001b[0m\n\u001b[1;32m    155\u001b[0m \u001b[39mdef\u001b[39;00m \u001b[39mcost_function\u001b[39m(\n\u001b[1;32m    156\u001b[0m     params: NDArray[np\u001b[39m.\u001b[39mfloat_],\n\u001b[1;32m    157\u001b[0m ):\n\u001b[0;32m--> 158\u001b[0m     resulting_labels \u001b[39m=\u001b[39m [\n\u001b[1;32m    159\u001b[0m         \u001b[39mself\u001b[39m\u001b[39m.\u001b[39mcircuit_to_optimize(training_vector, params)\n\u001b[1;32m    160\u001b[0m         \u001b[39mfor\u001b[39;00m training_vector \u001b[39min\u001b[39;00m training_vectors\n\u001b[1;32m    161\u001b[0m     ]\n\u001b[1;32m    162\u001b[0m     \u001b[39mreturn\u001b[39;00m error_function(resulting_labels, training_labels)\n",
      "File \u001b[0;32m~/Desktop/Université/Session 3/BSQ201/Projet 1/Quantum_classifiers_BSQ_201/qcnn_method.py:159\u001b[0m, in \u001b[0;36m<listcomp>\u001b[0;34m(.0)\u001b[0m\n\u001b[1;32m    155\u001b[0m \u001b[39mdef\u001b[39;00m \u001b[39mcost_function\u001b[39m(\n\u001b[1;32m    156\u001b[0m     params: NDArray[np\u001b[39m.\u001b[39mfloat_],\n\u001b[1;32m    157\u001b[0m ):\n\u001b[1;32m    158\u001b[0m     resulting_labels \u001b[39m=\u001b[39m [\n\u001b[0;32m--> 159\u001b[0m         \u001b[39mself\u001b[39;49m\u001b[39m.\u001b[39;49mcircuit_to_optimize(training_vector, params)\n\u001b[1;32m    160\u001b[0m         \u001b[39mfor\u001b[39;00m training_vector \u001b[39min\u001b[39;00m training_vectors\n\u001b[1;32m    161\u001b[0m     ]\n\u001b[1;32m    162\u001b[0m     \u001b[39mreturn\u001b[39;00m error_function(resulting_labels, training_labels)\n",
      "File \u001b[0;32m~/opt/anaconda3/envs/pennylane/lib/python3.9/site-packages/pennylane/workflow/qnode.py:1164\u001b[0m, in \u001b[0;36mQNode.__call__\u001b[0;34m(self, *args, **kwargs)\u001b[0m\n\u001b[1;32m   1162\u001b[0m \u001b[39mif\u001b[39;00m qml\u001b[39m.\u001b[39mcapture\u001b[39m.\u001b[39menabled():\n\u001b[1;32m   1163\u001b[0m     \u001b[39mreturn\u001b[39;00m qml\u001b[39m.\u001b[39mcapture\u001b[39m.\u001b[39mqnode_call(\u001b[39mself\u001b[39m, \u001b[39m*\u001b[39margs, \u001b[39m*\u001b[39m\u001b[39m*\u001b[39mkwargs)\n\u001b[0;32m-> 1164\u001b[0m \u001b[39mreturn\u001b[39;00m \u001b[39mself\u001b[39;49m\u001b[39m.\u001b[39;49m_impl_call(\u001b[39m*\u001b[39;49margs, \u001b[39m*\u001b[39;49m\u001b[39m*\u001b[39;49mkwargs)\n",
      "File \u001b[0;32m~/opt/anaconda3/envs/pennylane/lib/python3.9/site-packages/pennylane/workflow/qnode.py:1150\u001b[0m, in \u001b[0;36mQNode._impl_call\u001b[0;34m(self, *args, **kwargs)\u001b[0m\n\u001b[1;32m   1147\u001b[0m \u001b[39mself\u001b[39m\u001b[39m.\u001b[39m_update_gradient_fn(shots\u001b[39m=\u001b[39moverride_shots, tape\u001b[39m=\u001b[39m\u001b[39mself\u001b[39m\u001b[39m.\u001b[39m_tape)\n\u001b[1;32m   1149\u001b[0m \u001b[39mtry\u001b[39;00m:\n\u001b[0;32m-> 1150\u001b[0m     res \u001b[39m=\u001b[39m \u001b[39mself\u001b[39;49m\u001b[39m.\u001b[39;49m_execution_component(args, kwargs, override_shots\u001b[39m=\u001b[39;49moverride_shots)\n\u001b[1;32m   1151\u001b[0m \u001b[39mfinally\u001b[39;00m:\n\u001b[1;32m   1152\u001b[0m     \u001b[39mif\u001b[39;00m old_interface \u001b[39m==\u001b[39m \u001b[39m\"\u001b[39m\u001b[39mauto\u001b[39m\u001b[39m\"\u001b[39m:\n",
      "File \u001b[0;32m~/opt/anaconda3/envs/pennylane/lib/python3.9/site-packages/pennylane/workflow/qnode.py:1103\u001b[0m, in \u001b[0;36mQNode._execution_component\u001b[0;34m(self, args, kwargs, override_shots)\u001b[0m\n\u001b[1;32m   1100\u001b[0m _prune_dynamic_transform(full_transform_program, inner_transform_program)\n\u001b[1;32m   1102\u001b[0m \u001b[39m# pylint: disable=unexpected-keyword-arg\u001b[39;00m\n\u001b[0;32m-> 1103\u001b[0m res \u001b[39m=\u001b[39m qml\u001b[39m.\u001b[39;49mexecute(\n\u001b[1;32m   1104\u001b[0m     (\u001b[39mself\u001b[39;49m\u001b[39m.\u001b[39;49m_tape,),\n\u001b[1;32m   1105\u001b[0m     device\u001b[39m=\u001b[39;49m\u001b[39mself\u001b[39;49m\u001b[39m.\u001b[39;49mdevice,\n\u001b[1;32m   1106\u001b[0m     gradient_fn\u001b[39m=\u001b[39;49m\u001b[39mself\u001b[39;49m\u001b[39m.\u001b[39;49mgradient_fn,\n\u001b[1;32m   1107\u001b[0m     interface\u001b[39m=\u001b[39;49m\u001b[39mself\u001b[39;49m\u001b[39m.\u001b[39;49minterface,\n\u001b[1;32m   1108\u001b[0m     transform_program\u001b[39m=\u001b[39;49mfull_transform_program,\n\u001b[1;32m   1109\u001b[0m     inner_transform\u001b[39m=\u001b[39;49minner_transform_program,\n\u001b[1;32m   1110\u001b[0m     config\u001b[39m=\u001b[39;49mconfig,\n\u001b[1;32m   1111\u001b[0m     gradient_kwargs\u001b[39m=\u001b[39;49m\u001b[39mself\u001b[39;49m\u001b[39m.\u001b[39;49mgradient_kwargs,\n\u001b[1;32m   1112\u001b[0m     override_shots\u001b[39m=\u001b[39;49moverride_shots,\n\u001b[1;32m   1113\u001b[0m     \u001b[39m*\u001b[39;49m\u001b[39m*\u001b[39;49m\u001b[39mself\u001b[39;49m\u001b[39m.\u001b[39;49mexecute_kwargs,\n\u001b[1;32m   1114\u001b[0m )\n\u001b[1;32m   1115\u001b[0m res \u001b[39m=\u001b[39m res[\u001b[39m0\u001b[39m]\n\u001b[1;32m   1117\u001b[0m \u001b[39m# convert result to the interface in case the qfunc has no parameters\u001b[39;00m\n",
      "File \u001b[0;32m~/opt/anaconda3/envs/pennylane/lib/python3.9/site-packages/pennylane/workflow/execution.py:666\u001b[0m, in \u001b[0;36mexecute\u001b[0;34m(tapes, device, gradient_fn, interface, transform_program, inner_transform, config, grad_on_execution, gradient_kwargs, cache, cachesize, max_diff, override_shots, expand_fn, max_expansion, device_batch_transform, device_vjp, mcm_config)\u001b[0m\n\u001b[1;32m    664\u001b[0m \u001b[39m# Exiting early if we do not need to deal with an interface boundary\u001b[39;00m\n\u001b[1;32m    665\u001b[0m \u001b[39mif\u001b[39;00m no_interface_boundary_required:\n\u001b[0;32m--> 666\u001b[0m     results \u001b[39m=\u001b[39m inner_execute(tapes)\n\u001b[1;32m    667\u001b[0m     \u001b[39mreturn\u001b[39;00m post_processing(results)\n\u001b[1;32m    669\u001b[0m _grad_on_execution \u001b[39m=\u001b[39m \u001b[39mFalse\u001b[39;00m\n",
      "File \u001b[0;32m~/opt/anaconda3/envs/pennylane/lib/python3.9/site-packages/pennylane/workflow/execution.py:316\u001b[0m, in \u001b[0;36m_make_inner_execute.<locals>.inner_execute\u001b[0;34m(tapes, **_)\u001b[0m\n\u001b[1;32m    313\u001b[0m     transformed_tapes \u001b[39m=\u001b[39m \u001b[39mtuple\u001b[39m(expand_fn(t) \u001b[39mfor\u001b[39;00m t \u001b[39min\u001b[39;00m transformed_tapes)\n\u001b[1;32m    315\u001b[0m \u001b[39mif\u001b[39;00m transformed_tapes:\n\u001b[0;32m--> 316\u001b[0m     results \u001b[39m=\u001b[39m device_execution(transformed_tapes)\n\u001b[1;32m    317\u001b[0m \u001b[39melse\u001b[39;00m:\n\u001b[1;32m    318\u001b[0m     results \u001b[39m=\u001b[39m ()\n",
      "File \u001b[0;32m~/opt/anaconda3/envs/pennylane/lib/python3.9/site-packages/pennylane/devices/modifiers/simulator_tracking.py:30\u001b[0m, in \u001b[0;36m_track_execute.<locals>.execute\u001b[0;34m(self, circuits, execution_config)\u001b[0m\n\u001b[1;32m     28\u001b[0m \u001b[39m@wraps\u001b[39m(untracked_execute)\n\u001b[1;32m     29\u001b[0m \u001b[39mdef\u001b[39;00m \u001b[39mexecute\u001b[39m(\u001b[39mself\u001b[39m, circuits, execution_config\u001b[39m=\u001b[39mDefaultExecutionConfig):\n\u001b[0;32m---> 30\u001b[0m     results \u001b[39m=\u001b[39m untracked_execute(\u001b[39mself\u001b[39;49m, circuits, execution_config)\n\u001b[1;32m     31\u001b[0m     \u001b[39mif\u001b[39;00m \u001b[39misinstance\u001b[39m(circuits, QuantumScript):\n\u001b[1;32m     32\u001b[0m         batch \u001b[39m=\u001b[39m (circuits,)\n",
      "File \u001b[0;32m~/opt/anaconda3/envs/pennylane/lib/python3.9/site-packages/pennylane/devices/modifiers/single_tape_support.py:32\u001b[0m, in \u001b[0;36m_make_execute.<locals>.execute\u001b[0;34m(self, circuits, execution_config)\u001b[0m\n\u001b[1;32m     30\u001b[0m     is_single_circuit \u001b[39m=\u001b[39m \u001b[39mTrue\u001b[39;00m\n\u001b[1;32m     31\u001b[0m     circuits \u001b[39m=\u001b[39m (circuits,)\n\u001b[0;32m---> 32\u001b[0m results \u001b[39m=\u001b[39m batch_execute(\u001b[39mself\u001b[39;49m, circuits, execution_config)\n\u001b[1;32m     33\u001b[0m \u001b[39mreturn\u001b[39;00m results[\u001b[39m0\u001b[39m] \u001b[39mif\u001b[39;00m is_single_circuit \u001b[39melse\u001b[39;00m results\n",
      "File \u001b[0;32m~/opt/anaconda3/envs/pennylane/lib/python3.9/site-packages/pennylane/logging/decorators.py:61\u001b[0m, in \u001b[0;36mlog_string_debug_func.<locals>.wrapper_entry\u001b[0;34m(*args, **kwargs)\u001b[0m\n\u001b[1;32m     54\u001b[0m     s_caller \u001b[39m=\u001b[39m \u001b[39m\"\u001b[39m\u001b[39m::L\u001b[39m\u001b[39m\"\u001b[39m\u001b[39m.\u001b[39mjoin(\n\u001b[1;32m     55\u001b[0m         [\u001b[39mstr\u001b[39m(i) \u001b[39mfor\u001b[39;00m i \u001b[39min\u001b[39;00m inspect\u001b[39m.\u001b[39mgetouterframes(inspect\u001b[39m.\u001b[39mcurrentframe(), \u001b[39m2\u001b[39m)[\u001b[39m1\u001b[39m][\u001b[39m1\u001b[39m:\u001b[39m3\u001b[39m]]\n\u001b[1;32m     56\u001b[0m     )\n\u001b[1;32m     57\u001b[0m     lgr\u001b[39m.\u001b[39mdebug(\n\u001b[1;32m     58\u001b[0m         \u001b[39mf\u001b[39m\u001b[39m\"\u001b[39m\u001b[39mCalling \u001b[39m\u001b[39m{\u001b[39;00mf_string\u001b[39m}\u001b[39;00m\u001b[39m from \u001b[39m\u001b[39m{\u001b[39;00ms_caller\u001b[39m}\u001b[39;00m\u001b[39m\"\u001b[39m,\n\u001b[1;32m     59\u001b[0m         \u001b[39m*\u001b[39m\u001b[39m*\u001b[39m_debug_log_kwargs,\n\u001b[1;32m     60\u001b[0m     )\n\u001b[0;32m---> 61\u001b[0m \u001b[39mreturn\u001b[39;00m func(\u001b[39m*\u001b[39;49margs, \u001b[39m*\u001b[39;49m\u001b[39m*\u001b[39;49mkwargs)\n",
      "File \u001b[0;32m~/opt/anaconda3/envs/pennylane/lib/python3.9/site-packages/pennylane/devices/default_qubit.py:597\u001b[0m, in \u001b[0;36mDefaultQubit.execute\u001b[0;34m(self, circuits, execution_config)\u001b[0m\n\u001b[1;32m    594\u001b[0m prng_keys \u001b[39m=\u001b[39m [\u001b[39mself\u001b[39m\u001b[39m.\u001b[39mget_prng_keys()[\u001b[39m0\u001b[39m] \u001b[39mfor\u001b[39;00m _ \u001b[39min\u001b[39;00m \u001b[39mrange\u001b[39m(\u001b[39mlen\u001b[39m(circuits))]\n\u001b[1;32m    596\u001b[0m \u001b[39mif\u001b[39;00m max_workers \u001b[39mis\u001b[39;00m \u001b[39mNone\u001b[39;00m:\n\u001b[0;32m--> 597\u001b[0m     \u001b[39mreturn\u001b[39;00m \u001b[39mtuple\u001b[39;49m(\n\u001b[1;32m    598\u001b[0m         _simulate_wrapper(\n\u001b[1;32m    599\u001b[0m             c,\n\u001b[1;32m    600\u001b[0m             {\n\u001b[1;32m    601\u001b[0m                 \u001b[39m\"\u001b[39;49m\u001b[39mrng\u001b[39;49m\u001b[39m\"\u001b[39;49m: \u001b[39mself\u001b[39;49m\u001b[39m.\u001b[39;49m_rng,\n\u001b[1;32m    602\u001b[0m                 \u001b[39m\"\u001b[39;49m\u001b[39mdebugger\u001b[39;49m\u001b[39m\"\u001b[39;49m: \u001b[39mself\u001b[39;49m\u001b[39m.\u001b[39;49m_debugger,\n\u001b[1;32m    603\u001b[0m                 \u001b[39m\"\u001b[39;49m\u001b[39minterface\u001b[39;49m\u001b[39m\"\u001b[39;49m: interface,\n\u001b[1;32m    604\u001b[0m                 \u001b[39m\"\u001b[39;49m\u001b[39mstate_cache\u001b[39;49m\u001b[39m\"\u001b[39;49m: \u001b[39mself\u001b[39;49m\u001b[39m.\u001b[39;49m_state_cache,\n\u001b[1;32m    605\u001b[0m                 \u001b[39m\"\u001b[39;49m\u001b[39mprng_key\u001b[39;49m\u001b[39m\"\u001b[39;49m: _key,\n\u001b[1;32m    606\u001b[0m                 \u001b[39m\"\u001b[39;49m\u001b[39mmcm_method\u001b[39;49m\u001b[39m\"\u001b[39;49m: execution_config\u001b[39m.\u001b[39;49mmcm_config\u001b[39m.\u001b[39;49mmcm_method,\n\u001b[1;32m    607\u001b[0m                 \u001b[39m\"\u001b[39;49m\u001b[39mpostselect_mode\u001b[39;49m\u001b[39m\"\u001b[39;49m: execution_config\u001b[39m.\u001b[39;49mmcm_config\u001b[39m.\u001b[39;49mpostselect_mode,\n\u001b[1;32m    608\u001b[0m             },\n\u001b[1;32m    609\u001b[0m         )\n\u001b[1;32m    610\u001b[0m         \u001b[39mfor\u001b[39;49;00m c, _key \u001b[39min\u001b[39;49;00m \u001b[39mzip\u001b[39;49m(circuits, prng_keys)\n\u001b[1;32m    611\u001b[0m     )\n\u001b[1;32m    613\u001b[0m vanilla_circuits \u001b[39m=\u001b[39m convert_to_numpy_parameters(circuits)[\u001b[39m0\u001b[39m]\n\u001b[1;32m    614\u001b[0m seeds \u001b[39m=\u001b[39m \u001b[39mself\u001b[39m\u001b[39m.\u001b[39m_rng\u001b[39m.\u001b[39mintegers(\u001b[39m2\u001b[39m\u001b[39m*\u001b[39m\u001b[39m*\u001b[39m\u001b[39m31\u001b[39m \u001b[39m-\u001b[39m \u001b[39m1\u001b[39m, size\u001b[39m=\u001b[39m\u001b[39mlen\u001b[39m(vanilla_circuits))\n",
      "File \u001b[0;32m~/opt/anaconda3/envs/pennylane/lib/python3.9/site-packages/pennylane/devices/default_qubit.py:598\u001b[0m, in \u001b[0;36m<genexpr>\u001b[0;34m(.0)\u001b[0m\n\u001b[1;32m    594\u001b[0m prng_keys \u001b[39m=\u001b[39m [\u001b[39mself\u001b[39m\u001b[39m.\u001b[39mget_prng_keys()[\u001b[39m0\u001b[39m] \u001b[39mfor\u001b[39;00m _ \u001b[39min\u001b[39;00m \u001b[39mrange\u001b[39m(\u001b[39mlen\u001b[39m(circuits))]\n\u001b[1;32m    596\u001b[0m \u001b[39mif\u001b[39;00m max_workers \u001b[39mis\u001b[39;00m \u001b[39mNone\u001b[39;00m:\n\u001b[1;32m    597\u001b[0m     \u001b[39mreturn\u001b[39;00m \u001b[39mtuple\u001b[39m(\n\u001b[0;32m--> 598\u001b[0m         _simulate_wrapper(\n\u001b[1;32m    599\u001b[0m             c,\n\u001b[1;32m    600\u001b[0m             {\n\u001b[1;32m    601\u001b[0m                 \u001b[39m\"\u001b[39;49m\u001b[39mrng\u001b[39;49m\u001b[39m\"\u001b[39;49m: \u001b[39mself\u001b[39;49m\u001b[39m.\u001b[39;49m_rng,\n\u001b[1;32m    602\u001b[0m                 \u001b[39m\"\u001b[39;49m\u001b[39mdebugger\u001b[39;49m\u001b[39m\"\u001b[39;49m: \u001b[39mself\u001b[39;49m\u001b[39m.\u001b[39;49m_debugger,\n\u001b[1;32m    603\u001b[0m                 \u001b[39m\"\u001b[39;49m\u001b[39minterface\u001b[39;49m\u001b[39m\"\u001b[39;49m: interface,\n\u001b[1;32m    604\u001b[0m                 \u001b[39m\"\u001b[39;49m\u001b[39mstate_cache\u001b[39;49m\u001b[39m\"\u001b[39;49m: \u001b[39mself\u001b[39;49m\u001b[39m.\u001b[39;49m_state_cache,\n\u001b[1;32m    605\u001b[0m                 \u001b[39m\"\u001b[39;49m\u001b[39mprng_key\u001b[39;49m\u001b[39m\"\u001b[39;49m: _key,\n\u001b[1;32m    606\u001b[0m                 \u001b[39m\"\u001b[39;49m\u001b[39mmcm_method\u001b[39;49m\u001b[39m\"\u001b[39;49m: execution_config\u001b[39m.\u001b[39;49mmcm_config\u001b[39m.\u001b[39;49mmcm_method,\n\u001b[1;32m    607\u001b[0m                 \u001b[39m\"\u001b[39;49m\u001b[39mpostselect_mode\u001b[39;49m\u001b[39m\"\u001b[39;49m: execution_config\u001b[39m.\u001b[39;49mmcm_config\u001b[39m.\u001b[39;49mpostselect_mode,\n\u001b[1;32m    608\u001b[0m             },\n\u001b[1;32m    609\u001b[0m         )\n\u001b[1;32m    610\u001b[0m         \u001b[39mfor\u001b[39;00m c, _key \u001b[39min\u001b[39;00m \u001b[39mzip\u001b[39m(circuits, prng_keys)\n\u001b[1;32m    611\u001b[0m     )\n\u001b[1;32m    613\u001b[0m vanilla_circuits \u001b[39m=\u001b[39m convert_to_numpy_parameters(circuits)[\u001b[39m0\u001b[39m]\n\u001b[1;32m    614\u001b[0m seeds \u001b[39m=\u001b[39m \u001b[39mself\u001b[39m\u001b[39m.\u001b[39m_rng\u001b[39m.\u001b[39mintegers(\u001b[39m2\u001b[39m\u001b[39m*\u001b[39m\u001b[39m*\u001b[39m\u001b[39m31\u001b[39m \u001b[39m-\u001b[39m \u001b[39m1\u001b[39m, size\u001b[39m=\u001b[39m\u001b[39mlen\u001b[39m(vanilla_circuits))\n",
      "File \u001b[0;32m~/opt/anaconda3/envs/pennylane/lib/python3.9/site-packages/pennylane/devices/default_qubit.py:863\u001b[0m, in \u001b[0;36m_simulate_wrapper\u001b[0;34m(circuit, kwargs)\u001b[0m\n\u001b[1;32m    862\u001b[0m \u001b[39mdef\u001b[39;00m \u001b[39m_simulate_wrapper\u001b[39m(circuit, kwargs):\n\u001b[0;32m--> 863\u001b[0m     \u001b[39mreturn\u001b[39;00m simulate(circuit, \u001b[39m*\u001b[39;49m\u001b[39m*\u001b[39;49mkwargs)\n",
      "File \u001b[0;32m~/opt/anaconda3/envs/pennylane/lib/python3.9/site-packages/pennylane/logging/decorators.py:61\u001b[0m, in \u001b[0;36mlog_string_debug_func.<locals>.wrapper_entry\u001b[0;34m(*args, **kwargs)\u001b[0m\n\u001b[1;32m     54\u001b[0m     s_caller \u001b[39m=\u001b[39m \u001b[39m\"\u001b[39m\u001b[39m::L\u001b[39m\u001b[39m\"\u001b[39m\u001b[39m.\u001b[39mjoin(\n\u001b[1;32m     55\u001b[0m         [\u001b[39mstr\u001b[39m(i) \u001b[39mfor\u001b[39;00m i \u001b[39min\u001b[39;00m inspect\u001b[39m.\u001b[39mgetouterframes(inspect\u001b[39m.\u001b[39mcurrentframe(), \u001b[39m2\u001b[39m)[\u001b[39m1\u001b[39m][\u001b[39m1\u001b[39m:\u001b[39m3\u001b[39m]]\n\u001b[1;32m     56\u001b[0m     )\n\u001b[1;32m     57\u001b[0m     lgr\u001b[39m.\u001b[39mdebug(\n\u001b[1;32m     58\u001b[0m         \u001b[39mf\u001b[39m\u001b[39m\"\u001b[39m\u001b[39mCalling \u001b[39m\u001b[39m{\u001b[39;00mf_string\u001b[39m}\u001b[39;00m\u001b[39m from \u001b[39m\u001b[39m{\u001b[39;00ms_caller\u001b[39m}\u001b[39;00m\u001b[39m\"\u001b[39m,\n\u001b[1;32m     59\u001b[0m         \u001b[39m*\u001b[39m\u001b[39m*\u001b[39m_debug_log_kwargs,\n\u001b[1;32m     60\u001b[0m     )\n\u001b[0;32m---> 61\u001b[0m \u001b[39mreturn\u001b[39;00m func(\u001b[39m*\u001b[39;49margs, \u001b[39m*\u001b[39;49m\u001b[39m*\u001b[39;49mkwargs)\n",
      "File \u001b[0;32m~/opt/anaconda3/envs/pennylane/lib/python3.9/site-packages/pennylane/devices/qubit/simulate.py:354\u001b[0m, in \u001b[0;36msimulate\u001b[0;34m(circuit, debugger, state_cache, **execution_kwargs)\u001b[0m\n\u001b[1;32m    351\u001b[0m     \u001b[39mreturn\u001b[39;00m \u001b[39mtuple\u001b[39m(results)\n\u001b[1;32m    353\u001b[0m ops_key, meas_key \u001b[39m=\u001b[39m jax_random_split(prng_key)\n\u001b[0;32m--> 354\u001b[0m state, is_state_batched \u001b[39m=\u001b[39m get_final_state(\n\u001b[1;32m    355\u001b[0m     circuit, debugger\u001b[39m=\u001b[39;49mdebugger, prng_key\u001b[39m=\u001b[39;49mops_key, \u001b[39m*\u001b[39;49m\u001b[39m*\u001b[39;49mexecution_kwargs\n\u001b[1;32m    356\u001b[0m )\n\u001b[1;32m    357\u001b[0m \u001b[39mif\u001b[39;00m state_cache \u001b[39mis\u001b[39;00m \u001b[39mnot\u001b[39;00m \u001b[39mNone\u001b[39;00m:\n\u001b[1;32m    358\u001b[0m     state_cache[circuit\u001b[39m.\u001b[39mhash] \u001b[39m=\u001b[39m state\n",
      "File \u001b[0;32m~/opt/anaconda3/envs/pennylane/lib/python3.9/site-packages/pennylane/logging/decorators.py:61\u001b[0m, in \u001b[0;36mlog_string_debug_func.<locals>.wrapper_entry\u001b[0;34m(*args, **kwargs)\u001b[0m\n\u001b[1;32m     54\u001b[0m     s_caller \u001b[39m=\u001b[39m \u001b[39m\"\u001b[39m\u001b[39m::L\u001b[39m\u001b[39m\"\u001b[39m\u001b[39m.\u001b[39mjoin(\n\u001b[1;32m     55\u001b[0m         [\u001b[39mstr\u001b[39m(i) \u001b[39mfor\u001b[39;00m i \u001b[39min\u001b[39;00m inspect\u001b[39m.\u001b[39mgetouterframes(inspect\u001b[39m.\u001b[39mcurrentframe(), \u001b[39m2\u001b[39m)[\u001b[39m1\u001b[39m][\u001b[39m1\u001b[39m:\u001b[39m3\u001b[39m]]\n\u001b[1;32m     56\u001b[0m     )\n\u001b[1;32m     57\u001b[0m     lgr\u001b[39m.\u001b[39mdebug(\n\u001b[1;32m     58\u001b[0m         \u001b[39mf\u001b[39m\u001b[39m\"\u001b[39m\u001b[39mCalling \u001b[39m\u001b[39m{\u001b[39;00mf_string\u001b[39m}\u001b[39;00m\u001b[39m from \u001b[39m\u001b[39m{\u001b[39;00ms_caller\u001b[39m}\u001b[39;00m\u001b[39m\"\u001b[39m,\n\u001b[1;32m     59\u001b[0m         \u001b[39m*\u001b[39m\u001b[39m*\u001b[39m_debug_log_kwargs,\n\u001b[1;32m     60\u001b[0m     )\n\u001b[0;32m---> 61\u001b[0m \u001b[39mreturn\u001b[39;00m func(\u001b[39m*\u001b[39;49margs, \u001b[39m*\u001b[39;49m\u001b[39m*\u001b[39;49mkwargs)\n",
      "File \u001b[0;32m~/opt/anaconda3/envs/pennylane/lib/python3.9/site-packages/pennylane/devices/qubit/simulate.py:174\u001b[0m, in \u001b[0;36mget_final_state\u001b[0;34m(circuit, debugger, **execution_kwargs)\u001b[0m\n\u001b[1;32m    172\u001b[0m \u001b[39mif\u001b[39;00m \u001b[39misinstance\u001b[39m(op, MidMeasureMP):\n\u001b[1;32m    173\u001b[0m     prng_key, key \u001b[39m=\u001b[39m jax_random_split(prng_key)\n\u001b[0;32m--> 174\u001b[0m state \u001b[39m=\u001b[39m apply_operation(\n\u001b[1;32m    175\u001b[0m     op,\n\u001b[1;32m    176\u001b[0m     state,\n\u001b[1;32m    177\u001b[0m     is_state_batched\u001b[39m=\u001b[39;49mis_state_batched,\n\u001b[1;32m    178\u001b[0m     debugger\u001b[39m=\u001b[39;49mdebugger,\n\u001b[1;32m    179\u001b[0m     prng_key\u001b[39m=\u001b[39;49mkey,\n\u001b[1;32m    180\u001b[0m     tape_shots\u001b[39m=\u001b[39;49mcircuit\u001b[39m.\u001b[39;49mshots,\n\u001b[1;32m    181\u001b[0m     \u001b[39m*\u001b[39;49m\u001b[39m*\u001b[39;49mexecution_kwargs,\n\u001b[1;32m    182\u001b[0m )\n\u001b[1;32m    183\u001b[0m \u001b[39m# Handle postselection on mid-circuit measurements\u001b[39;00m\n\u001b[1;32m    184\u001b[0m \u001b[39mif\u001b[39;00m \u001b[39misinstance\u001b[39m(op, qml\u001b[39m.\u001b[39mProjector):\n",
      "File \u001b[0;32m~/opt/anaconda3/envs/pennylane/lib/python3.9/functools.py:888\u001b[0m, in \u001b[0;36msingledispatch.<locals>.wrapper\u001b[0;34m(*args, **kw)\u001b[0m\n\u001b[1;32m    884\u001b[0m \u001b[39mif\u001b[39;00m \u001b[39mnot\u001b[39;00m args:\n\u001b[1;32m    885\u001b[0m     \u001b[39mraise\u001b[39;00m \u001b[39mTypeError\u001b[39;00m(\u001b[39mf\u001b[39m\u001b[39m'\u001b[39m\u001b[39m{\u001b[39;00mfuncname\u001b[39m}\u001b[39;00m\u001b[39m requires at least \u001b[39m\u001b[39m'\u001b[39m\n\u001b[1;32m    886\u001b[0m                     \u001b[39m'\u001b[39m\u001b[39m1 positional argument\u001b[39m\u001b[39m'\u001b[39m)\n\u001b[0;32m--> 888\u001b[0m \u001b[39mreturn\u001b[39;00m dispatch(args[\u001b[39m0\u001b[39;49m]\u001b[39m.\u001b[39;49m\u001b[39m__class__\u001b[39;49m)(\u001b[39m*\u001b[39;49margs, \u001b[39m*\u001b[39;49m\u001b[39m*\u001b[39;49mkw)\n",
      "File \u001b[0;32m~/opt/anaconda3/envs/pennylane/lib/python3.9/site-packages/pennylane/devices/qubit/apply_operation.py:218\u001b[0m, in \u001b[0;36mapply_operation\u001b[0;34m(op, state, is_state_batched, debugger, **_)\u001b[0m\n\u001b[1;32m    152\u001b[0m \u001b[39m@singledispatch\u001b[39m\n\u001b[1;32m    153\u001b[0m \u001b[39mdef\u001b[39;00m \u001b[39mapply_operation\u001b[39m(\n\u001b[1;32m    154\u001b[0m     op: qml\u001b[39m.\u001b[39moperation\u001b[39m.\u001b[39mOperator,\n\u001b[0;32m   (...)\u001b[0m\n\u001b[1;32m    158\u001b[0m     \u001b[39m*\u001b[39m\u001b[39m*\u001b[39m_,\n\u001b[1;32m    159\u001b[0m ):\n\u001b[1;32m    160\u001b[0m \u001b[39m    \u001b[39m\u001b[39m\"\"\"Apply and operator to a given state.\u001b[39;00m\n\u001b[1;32m    161\u001b[0m \n\u001b[1;32m    162\u001b[0m \u001b[39m    Args:\u001b[39;00m\n\u001b[0;32m   (...)\u001b[0m\n\u001b[1;32m    216\u001b[0m \n\u001b[1;32m    217\u001b[0m \u001b[39m    \"\"\"\u001b[39;00m\n\u001b[0;32m--> 218\u001b[0m     \u001b[39mreturn\u001b[39;00m _apply_operation_default(op, state, is_state_batched, debugger)\n",
      "File \u001b[0;32m~/opt/anaconda3/envs/pennylane/lib/python3.9/site-packages/pennylane/devices/qubit/apply_operation.py:228\u001b[0m, in \u001b[0;36m_apply_operation_default\u001b[0;34m(op, state, is_state_batched, debugger)\u001b[0m\n\u001b[1;32m    222\u001b[0m \u001b[39m\u001b[39m\u001b[39m\"\"\"The default behaviour of apply_operation, accessed through the standard dispatch\u001b[39;00m\n\u001b[1;32m    223\u001b[0m \u001b[39mof apply_operation, as well as conditionally in other dispatches.\"\"\"\u001b[39;00m\n\u001b[1;32m    224\u001b[0m \u001b[39mif\u001b[39;00m (\n\u001b[1;32m    225\u001b[0m     \u001b[39mlen\u001b[39m(op\u001b[39m.\u001b[39mwires) \u001b[39m<\u001b[39m EINSUM_OP_WIRECOUNT_PERF_THRESHOLD\n\u001b[1;32m    226\u001b[0m     \u001b[39mand\u001b[39;00m math\u001b[39m.\u001b[39mndim(state) \u001b[39m<\u001b[39m EINSUM_STATE_WIRECOUNT_PERF_THRESHOLD\n\u001b[1;32m    227\u001b[0m ) \u001b[39mor\u001b[39;00m (op\u001b[39m.\u001b[39mbatch_size \u001b[39mand\u001b[39;00m is_state_batched):\n\u001b[0;32m--> 228\u001b[0m     \u001b[39mreturn\u001b[39;00m apply_operation_einsum(op, state, is_state_batched\u001b[39m=\u001b[39;49mis_state_batched)\n\u001b[1;32m    229\u001b[0m \u001b[39mreturn\u001b[39;00m apply_operation_tensordot(op, state, is_state_batched\u001b[39m=\u001b[39mis_state_batched)\n",
      "File \u001b[0;32m~/opt/anaconda3/envs/pennylane/lib/python3.9/site-packages/pennylane/devices/qubit/apply_operation.py:102\u001b[0m, in \u001b[0;36mapply_operation_einsum\u001b[0;34m(op, state, is_state_batched)\u001b[0m\n\u001b[1;32m     99\u001b[0m         op\u001b[39m.\u001b[39m_batch_size \u001b[39m=\u001b[39m batch_size  \u001b[39m# pylint:disable=protected-access\u001b[39;00m\n\u001b[1;32m    100\u001b[0m reshaped_mat \u001b[39m=\u001b[39m math\u001b[39m.\u001b[39mreshape(mat, new_mat_shape)\n\u001b[0;32m--> 102\u001b[0m \u001b[39mreturn\u001b[39;00m math\u001b[39m.\u001b[39;49meinsum(einsum_indices, reshaped_mat, state)\n",
      "File \u001b[0;32m~/opt/anaconda3/envs/pennylane/lib/python3.9/site-packages/pennylane/math/multi_dispatch.py:557\u001b[0m, in \u001b[0;36meinsum\u001b[0;34m(indices, like, optimize, *operands)\u001b[0m\n\u001b[1;32m    554\u001b[0m operands \u001b[39m=\u001b[39m np\u001b[39m.\u001b[39mcoerce(operands, like\u001b[39m=\u001b[39mlike)\n\u001b[1;32m    555\u001b[0m \u001b[39mif\u001b[39;00m optimize \u001b[39mis\u001b[39;00m \u001b[39mNone\u001b[39;00m \u001b[39mor\u001b[39;00m like \u001b[39m==\u001b[39m \u001b[39m\"\u001b[39m\u001b[39mtorch\u001b[39m\u001b[39m\"\u001b[39m:\n\u001b[1;32m    556\u001b[0m     \u001b[39m# torch einsum doesn't support the optimize keyword argument\u001b[39;00m\n\u001b[0;32m--> 557\u001b[0m     \u001b[39mreturn\u001b[39;00m np\u001b[39m.\u001b[39;49meinsum(indices, \u001b[39m*\u001b[39;49moperands, like\u001b[39m=\u001b[39;49mlike)\n\u001b[1;32m    558\u001b[0m \u001b[39mif\u001b[39;00m like \u001b[39m==\u001b[39m \u001b[39m\"\u001b[39m\u001b[39mtensorflow\u001b[39m\u001b[39m\"\u001b[39m:\n\u001b[1;32m    559\u001b[0m     \u001b[39m# Unpacking and casting necessary for higher order derivatives,\u001b[39;00m\n\u001b[1;32m    560\u001b[0m     \u001b[39m# and avoiding implicit fp32 down-conversions.\u001b[39;00m\n\u001b[1;32m    561\u001b[0m     op1, op2 \u001b[39m=\u001b[39m operands\n",
      "File \u001b[0;32m~/opt/anaconda3/envs/pennylane/lib/python3.9/site-packages/autoray/autoray.py:81\u001b[0m, in \u001b[0;36mdo\u001b[0;34m(fn, like, *args, **kwargs)\u001b[0m\n\u001b[1;32m     79\u001b[0m backend \u001b[39m=\u001b[39m _choose_backend(fn, args, kwargs, like\u001b[39m=\u001b[39mlike)\n\u001b[1;32m     80\u001b[0m func \u001b[39m=\u001b[39m get_lib_fn(backend, fn)\n\u001b[0;32m---> 81\u001b[0m \u001b[39mreturn\u001b[39;00m func(\u001b[39m*\u001b[39;49margs, \u001b[39m*\u001b[39;49m\u001b[39m*\u001b[39;49mkwargs)\n",
      "File \u001b[0;32m~/opt/anaconda3/envs/pennylane/lib/python3.9/site-packages/pennylane/numpy/wrapper.py:117\u001b[0m, in \u001b[0;36mtensor_wrapper.<locals>._wrapped\u001b[0;34m(*args, **kwargs)\u001b[0m\n\u001b[1;32m    114\u001b[0m         tensor_kwargs[\u001b[39m\"\u001b[39m\u001b[39mrequires_grad\u001b[39m\u001b[39m\"\u001b[39m] \u001b[39m=\u001b[39m _np\u001b[39m.\u001b[39many([i\u001b[39m.\u001b[39mrequires_grad \u001b[39mfor\u001b[39;00m i \u001b[39min\u001b[39;00m tensor_args])\n\u001b[1;32m    116\u001b[0m \u001b[39m# evaluate the original object\u001b[39;00m\n\u001b[0;32m--> 117\u001b[0m res \u001b[39m=\u001b[39m obj(\u001b[39m*\u001b[39;49margs, \u001b[39m*\u001b[39;49m\u001b[39m*\u001b[39;49mkwargs)\n\u001b[1;32m    119\u001b[0m \u001b[39mif\u001b[39;00m \u001b[39misinstance\u001b[39m(res, _np\u001b[39m.\u001b[39mndarray):\n\u001b[1;32m    120\u001b[0m     \u001b[39m# only if the output of the object is a ndarray,\u001b[39;00m\n\u001b[1;32m    121\u001b[0m     \u001b[39m# then convert to a PennyLane tensor\u001b[39;00m\n\u001b[1;32m    122\u001b[0m     res \u001b[39m=\u001b[39m tensor(res, \u001b[39m*\u001b[39m\u001b[39m*\u001b[39mtensor_kwargs)\n",
      "File \u001b[0;32m~/opt/anaconda3/envs/pennylane/lib/python3.9/site-packages/autograd/tracer.py:48\u001b[0m, in \u001b[0;36mprimitive.<locals>.f_wrapped\u001b[0;34m(*args, **kwargs)\u001b[0m\n\u001b[1;32m     46\u001b[0m     \u001b[39mreturn\u001b[39;00m new_box(ans, trace, node)\n\u001b[1;32m     47\u001b[0m \u001b[39melse\u001b[39;00m:\n\u001b[0;32m---> 48\u001b[0m     \u001b[39mreturn\u001b[39;00m f_raw(\u001b[39m*\u001b[39;49margs, \u001b[39m*\u001b[39;49m\u001b[39m*\u001b[39;49mkwargs)\n",
      "File \u001b[0;32m~/opt/anaconda3/envs/pennylane/lib/python3.9/site-packages/numpy/core/einsumfunc.py:1371\u001b[0m, in \u001b[0;36meinsum\u001b[0;34m(out, optimize, *operands, **kwargs)\u001b[0m\n\u001b[1;32m   1369\u001b[0m     \u001b[39mif\u001b[39;00m specified_out:\n\u001b[1;32m   1370\u001b[0m         kwargs[\u001b[39m'\u001b[39m\u001b[39mout\u001b[39m\u001b[39m'\u001b[39m] \u001b[39m=\u001b[39m out\n\u001b[0;32m-> 1371\u001b[0m     \u001b[39mreturn\u001b[39;00m c_einsum(\u001b[39m*\u001b[39;49moperands, \u001b[39m*\u001b[39;49m\u001b[39m*\u001b[39;49mkwargs)\n\u001b[1;32m   1373\u001b[0m \u001b[39m# Check the kwargs to avoid a more cryptic error later, without having to\u001b[39;00m\n\u001b[1;32m   1374\u001b[0m \u001b[39m# repeat default values here\u001b[39;00m\n\u001b[1;32m   1375\u001b[0m valid_einsum_kwargs \u001b[39m=\u001b[39m [\u001b[39m'\u001b[39m\u001b[39mdtype\u001b[39m\u001b[39m'\u001b[39m, \u001b[39m'\u001b[39m\u001b[39morder\u001b[39m\u001b[39m'\u001b[39m, \u001b[39m'\u001b[39m\u001b[39mcasting\u001b[39m\u001b[39m'\u001b[39m]\n",
      "\u001b[0;31mKeyboardInterrupt\u001b[0m: "
     ]
    }
   ],
   "source": [
    "from scipy.optimize import minimize\n",
    "from utils.error_functions import mean_square_error\n",
    "from pennylane.optimize import NesterovMomentumOptimizer, AdamOptimizer,GradientDescentOptimizer\n",
    "training_ratio=0.8\n",
    "\n",
    "\"\"\"\n",
    "def minimisation(cost_function, params):\n",
    "    result=minimize(\n",
    "        cost_function,\n",
    "        params,\n",
    "        method=\"COBYLA\",\n",
    "        options={\n",
    "            \"maxiter\": 70,\n",
    "            \"disp\":True,      #To reduce the time of optimization\n",
    "        },\n",
    "    )\n",
    "    return result.x\n",
    "\"\"\"\n",
    "\n",
    "\n",
    "def minimisation(cost_function, params):\n",
    "    result=NesterovMomentumOptimizer()\n",
    "    new_params=params\n",
    "    for _ in range(100):\n",
    "        new_params,fct=result.step_and_cost(cost_function,new_params)\n",
    "        print(new_params)\n",
    "    return new_params    \n",
    "\n",
    "score, predictions = qcnn.run(\n",
    "    feature_vectors,\n",
    "    labels,\n",
    "    minimisation,\n",
    "    error_function=mean_square_error,\n",
    "    training_ratio=training_ratio,\n",
    ")"
   ]
  },
  {
   "cell_type": "markdown",
   "metadata": {},
   "source": [
    "The result of this algorithm is the same as the quantum kernel algorithm. Lest print the results."
   ]
  },
  {
   "cell_type": "code",
   "execution_count": 20,
   "metadata": {},
   "outputs": [
    {
     "name": "stdout",
     "output_type": "stream",
     "text": [
      "The score of the normal QCNN:  0.45\n",
      "The predictions of the labels:  [-1. -1. -1. -1. -1. -1. -1. -1. -1. -1. -1. -1. -1. -1. -1. -1. -1. -1.\n",
      " -1. -1.]\n",
      "The true value of the labels:  [-1.  1.  1. -1.  1. -1. -1.  1.  1. -1.  1.  1.  1. -1. -1.  1.  1. -1.\n",
      " -1.  1.]\n"
     ]
    }
   ],
   "source": [
    "training_period = int(len(labels) * training_ratio)\n",
    "\n",
    "print(\"The score of the normal QCNN: \", score)\n",
    "print(\"The predictions of the labels: \", predictions)\n",
    "print(\"The true value of the labels: \", labels[training_period:])"
   ]
  },
  {
   "cell_type": "markdown",
   "metadata": {},
   "source": [
    "### run_batched function"
   ]
  },
  {
   "cell_type": "markdown",
   "metadata": {},
   "source": [
    "The *run_batched* function uses the same parameters as the normal run function. However it also has a *num_batches* parameter. Indeed, this function uses partitions of the training parameters to optimize the parametrized circuit. Instead of getting the reult of all of the training vectors for one optimization of the the optimizer, only a few amount of the data is used.\n",
    "\n",
    "Each batch of the data is used once so that the training vectors is used one. We clearly have a complexity gain.\n",
    "\n",
    "To use this function, the optimizer needs to run exactly *num_batches iterations*.\n",
    "\n",
    "This is how to call the run_batched algotithm."
   ]
  },
  {
   "cell_type": "code",
   "execution_count": 21,
   "metadata": {},
   "outputs": [],
   "source": [
    "# Lets start over with a new object with not optimized parameter\n",
    "import utils.quantum_embeddings\n",
    "num_qubits=8\n",
    "\n",
    "qcnn = QCNN_Solver(utils.quantum_embeddings.iqp_embedding, num_qubits)"
   ]
  },
  {
   "cell_type": "code",
   "execution_count": 22,
   "metadata": {},
   "outputs": [],
   "source": [
    "# To run the function:\n",
    "from scipy.optimize import minimize\n",
    "from utils.error_functions import mean_square_error\n",
    "from pennylane.optimize import NesterovMomentumOptimizer, AdamOptimizer,GradientDescentOptimizer\n",
    "\n",
    "batches = 8\n",
    "def minimisation(cost_function, params):\n",
    "        \n",
    "        result=minimize(\n",
    "            cost_function,\n",
    "            params,\n",
    "            method=\"COBYLA\",\n",
    "            options={\n",
    "                \"maxiter\": batches, #The number of iteration of the optimizer needs to be the same as the number of batches\n",
    "            },\n",
    "        )\n",
    "        \n",
    "        return result.x\n",
    "\n",
    "score, predictions = qcnn.run_batched(\n",
    "    feature_vectors,\n",
    "    labels,\n",
    "    minimisation,\n",
    "    error_function=mean_square_error,\n",
    "    num_batches=batches,\n",
    "    training_ratio=training_ratio,\n",
    ")"
   ]
  },
  {
   "cell_type": "markdown",
   "metadata": {},
   "source": [
    "The result of this algorithm is the same as the quantum kernel algorithm. Lest print the results."
   ]
  },
  {
   "cell_type": "code",
   "execution_count": 23,
   "metadata": {},
   "outputs": [
    {
     "name": "stdout",
     "output_type": "stream",
     "text": [
      "The score of the batched QCNN:  0.55\n",
      "The predictions of the labels:  [1. 1. 1. 1. 1. 1. 1. 1. 1. 1. 1. 1. 1. 1. 1. 1. 1. 1. 1. 1.]\n",
      "The true value of the labels:  [-1.  1.  1. -1.  1. -1. -1.  1.  1. -1.  1.  1.  1. -1. -1.  1.  1. -1.\n",
      " -1.  1.]\n"
     ]
    }
   ],
   "source": [
    "training_period = int(len(labels) * training_ratio)\n",
    "\n",
    "print(\"The score of the batched QCNN: \", score)\n",
    "print(\"The predictions of the labels: \", predictions)\n",
    "print(\"The true value of the labels: \", labels[training_period:])"
   ]
  },
  {
   "cell_type": "markdown",
   "metadata": {},
   "source": [
    "You are now ready to use the various quantum classifiers!"
   ]
  }
 ],
 "metadata": {
  "kernelspec": {
   "display_name": "pennylane",
   "language": "python",
   "name": "python3"
  },
  "language_info": {
   "codemirror_mode": {
    "name": "ipython",
    "version": 3
   },
   "file_extension": ".py",
   "mimetype": "text/x-python",
   "name": "python",
   "nbconvert_exporter": "python",
   "pygments_lexer": "ipython3",
   "version": "3.9.19"
  }
 },
 "nbformat": 4,
 "nbformat_minor": 2
}
